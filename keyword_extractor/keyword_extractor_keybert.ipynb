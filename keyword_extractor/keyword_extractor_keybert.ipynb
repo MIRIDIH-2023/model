{
 "cells": [
  {
   "cell_type": "code",
   "execution_count": 1,
   "metadata": {},
   "outputs": [],
   "source": [
    "import glob\n",
    "import json\n",
    "import random\n",
    "import zipfile\n",
    "\n",
    "with zipfile.ZipFile('C:\\\\Users\\\\qazxs\\\\Desktop\\\\mirid\\\\data\\\\processed_sample.zip', 'r') as zip_ref:\n",
    "    zip_ref.extractall('data/')\n",
    "\n",
    "json_files = glob.glob('data/processed_sample_*.json')\n",
    "\n",
    "jsons = []\n",
    "samples = []\n",
    "\n",
    "for json_file in json_files:\n",
    "    with open(json_file, 'r') as file:\n",
    "        data_dict = json.load(file)\n",
    "        jsons.append(data_dict)\n",
    "        samples.append(\"\")\n",
    "        for text_info in data_dict['form']:\n",
    "            text = text_info['text']\n",
    "            if type(text) == str:\n",
    "                samples[-1] += text + ' '"
   ]
  },
  {
   "cell_type": "code",
   "execution_count": 2,
   "metadata": {},
   "outputs": [],
   "source": [
    "from keybert import KeyBERT\n",
    "\n",
    "kw_model = KeyBERT(model='distiluse-base-multilingual-cased-v1')"
   ]
  },
  {
   "cell_type": "code",
   "execution_count": null,
   "metadata": {},
   "outputs": [
    {
     "name": "stdout",
     "output_type": "stream",
     "text": [
      "['sticker', 'vacation', 'status', 'project', 'and']\n",
      "https://file.miricanvas.com/template_thumb/2023/03/13/11/40/ki94uwfc1m9ghw56/thumb.jpg\n"
     ]
    }
   ],
   "source": [
    "idx = random.randint(0, len(samples))\n",
    "keywords = kw_model.extract_keywords(samples[idx], stop_words=None, use_mmr=True, diversity=0.7)\n",
    "print([keyword[0] for keyword in keywords if keyword])\n",
    "thumbnail_url = jsons[idx]['thumbnail_url']\n",
    "print(thumbnail_url)\n"
   ]
  },
  {
   "cell_type": "code",
   "execution_count": null,
   "metadata": {},
   "outputs": [],
   "source": []
  }
 ],
 "metadata": {
  "kernelspec": {
   "display_name": "Python 3 (ipykernel)",
   "language": "python",
   "name": "python3"
  },
  "language_info": {
   "codemirror_mode": {
    "name": "ipython",
    "version": 3
   },
   "file_extension": ".py",
   "mimetype": "text/x-python",
   "name": "python",
   "nbconvert_exporter": "python",
   "pygments_lexer": "ipython3",
   "version": "3.9.7"
  },
  "orig_nbformat": 4
 },
 "nbformat": 4,
 "nbformat_minor": 2
}
