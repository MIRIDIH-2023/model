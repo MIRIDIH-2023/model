{
  "nbformat": 4,
  "nbformat_minor": 0,
  "metadata": {
    "colab": {
      "provenance": []
    },
    "kernelspec": {
      "name": "python3",
      "display_name": "Python 3"
    },
    "language_info": {
      "name": "python"
    }
  },
  "cells": [
    {
      "cell_type": "code",
      "source": [
        "import openai\n",
        "\n",
        "openai.api_key = '<openai api key>'"
      ],
      "metadata": {
        "id": "xdH41qQF3kbh"
      },
      "execution_count": null,
      "outputs": []
    },
    {
      "cell_type": "code",
      "source": [
        "prompt = lambda x: '''Please provide the exact textual content you want included in your design template. Do not include any section headings like 'Title' or 'Paragraph', just the raw content. Ensure each distinct section of text is separated by a line break. Focus only on the textual content you wish to be incorporated.\n",
        "\n",
        "Input:\n",
        "제목 : 미리시민과 함께하는 마을생태 지킴이 자원봉사 모집\n",
        "단락1 제목 : 일시\n",
        "단락1 내용 : 2030년 3월 1일 (수)\n",
        "Output:\n",
        "미리시민과 함께하는 마을생태 지킴이 자원봉사 모집\n",
        "일시\n",
        "2030년 3월 1일 (수)\n",
        "'\n",
        "Input:\n",
        "''' + x + 'output:\\n'"
      ],
      "metadata": {
        "id": "3aT44meY5JAW"
      },
      "execution_count": null,
      "outputs": []
    },
    {
      "cell_type": "code",
      "source": [
        "def extract_content(request):\n",
        "  completion = openai.Completion.create(\n",
        "      prompt=prompt(request),\n",
        "      model=\"text-davinci-003\",\n",
        "      max_tokens=2418\n",
        "  )\n",
        "\n",
        "  response = completion.choices[0].text.strip()\n",
        "  return response"
      ],
      "metadata": {
        "id": "CBHhJWNY3zgy"
      },
      "execution_count": null,
      "outputs": []
    },
    {
      "cell_type": "code",
      "source": [
        "user_input = '''제목: 할로윈 파티에 초대합니다!\n",
        "단락 1 제목: 할로윈 코스튬 경연 대회\n",
        "단락 1 내용: 여러분의 창의력을 발휘해 가장 멋진 코스튬으로 참가해보세요. 최고의 코스튬은 상을 받게 됩니다!\n",
        "단락 2 제목: 호러 영화 시청\n",
        "단락 2 내용: 공포와 스릴을 선사하는 할로윈 분위기의 영화들을 함께 감상해보세요.\n",
        "단락 3 제목: 트릭 오어 트릿\n",
        "단락 3 내용: 사탕과 함께 할로윈 테마의 트릭 오어 트릿 게임을 즐기며 다른 참가자들과 즐거운 시간을 보내세요.\n",
        "단락 4 제목: 유령 이야기 시간\n",
        "단락 4 내용: 무서운 이야기를 나누며 유령의 존재를 느껴보세요.'''\n",
        "print(extract_content(user_input))"
      ],
      "metadata": {
        "colab": {
          "base_uri": "https://localhost:8080/"
        },
        "id": "fd5iP4dS4OTG",
        "outputId": "c64e23b1-f941-4f4c-a743-67bedd796e8d"
      },
      "execution_count": null,
      "outputs": [
        {
          "output_type": "stream",
          "name": "stdout",
          "text": [
            "할로윈 파티에 초대합니다!\n",
            "할로윈 코스튬 경연 대회\n",
            "여러분의 창의력을 발휘해 가장 멋진 코스튬으로 참가해보세요. 최고의 코스튬은 상을 받게 됩니다!\n",
            "호러 영화 시청\n",
            "공포와 스릴을 선사하는 할로윈 분위기의 영화들을 함께 감상해보세요.\n",
            "트릭 오어 트릿\n",
            "사탕과 함께 할로윈 테마의 트릭 오어 트릿 게임을 즐기며 다른 참가자들과 즐거운 시간을 보내세요.\n",
            "유령 이야기 시간\n",
            "무서운 이야기를 나누며 유령의 존재를 느껴보세요.\n"
          ]
        }
      ]
    },
    {
      "cell_type": "code",
      "source": [
        "user_input = '제목) 냉방병 예방법, 부제목) 더운 여름철, 건강하고 시원하게 보내기'\n",
        "print(extract_content(user_input))"
      ],
      "metadata": {
        "colab": {
          "base_uri": "https://localhost:8080/"
        },
        "id": "rCqk9tUK64Br",
        "outputId": "e8341f8c-c978-48ad-f43a-26c7e75948a7"
      },
      "execution_count": null,
      "outputs": [
        {
          "output_type": "stream",
          "name": "stdout",
          "text": [
            "냉방병 예방법\n",
            "더운 여름철, 건강하고 시원하게 보내기\n"
          ]
        }
      ]
    },
    {
      "cell_type": "code",
      "source": [],
      "metadata": {
        "id": "KamFjb4W-3kh"
      },
      "execution_count": null,
      "outputs": []
    }
  ]
}